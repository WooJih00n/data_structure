{
  "nbformat": 4,
  "nbformat_minor": 0,
  "metadata": {
    "colab": {
      "provenance": [],
      "authorship_tag": "ABX9TyMdI70kNQBMqSyZQSzF9lm4",
      "include_colab_link": true
    },
    "kernelspec": {
      "name": "python3",
      "display_name": "Python 3"
    },
    "language_info": {
      "name": "python"
    }
  },
  "cells": [
    {
      "cell_type": "markdown",
      "metadata": {
        "id": "view-in-github",
        "colab_type": "text"
      },
      "source": [
        "<a href=\"https://colab.research.google.com/github/WooJih00n/data_structure/blob/master/stack%20%EC%98%88%EC%8B%9C.ipynb\" target=\"_parent\"><img src=\"https://colab.research.google.com/assets/colab-badge.svg\" alt=\"Open In Colab\"/></a>"
      ]
    },
    {
      "cell_type": "code",
      "execution_count": 1,
      "metadata": {
        "id": "2IsflzQ2NW1V"
      },
      "outputs": [],
      "source": [
        "class Stack:\n",
        "  def __init__(self):\n",
        "    self.items=[]\n",
        "  def is_empty(self):\n",
        "    return self.items==[]\n",
        "  def push(self,item):\n",
        "    self.items.append(item)\n",
        "  def pop(self):\n",
        "    return self.items.pop()\n",
        "  def peek(self):\n",
        "    return self.items[len(self.items)-1]\n",
        "  def size(self):\n",
        "    return len(self.items)\n",
        "  def pop_all(self):\n",
        "    self.items.clear()\n",
        "    "
      ]
    },
    {
      "cell_type": "code",
      "source": [
        "s=Stack()\n",
        "s.push(\"dog\")\n",
        "s.push(3.141592)\n",
        "s.push(11111)\n",
        "s.pop()\n",
        "print(s.size())"
      ],
      "metadata": {
        "colab": {
          "base_uri": "https://localhost:8080/"
        },
        "id": "HVb1NfhXPXpn",
        "outputId": "9fd90075-8249-44ca-efec-2cac5508c6b5"
      },
      "execution_count": 5,
      "outputs": [
        {
          "output_type": "stream",
          "name": "stdout",
          "text": [
            "2\n"
          ]
        }
      ]
    },
    {
      "cell_type": "code",
      "source": [
        "def reverse(str):\n",
        "  st=Stack()\n",
        "  for i in range(len(str)):\n",
        "    st.push(str[i])\n",
        "\n",
        "  out=\"\"\n",
        "  while not st.is_empty():\n",
        "    out+=st.pop()\n",
        "\n",
        "  return out"
      ],
      "metadata": {
        "id": "UHjTZhorOp-y"
      },
      "execution_count": 11,
      "outputs": []
    },
    {
      "cell_type": "code",
      "source": [
        "input= \"Test seq 12345\"\n",
        "answer = reverse(input)"
      ],
      "metadata": {
        "id": "e1iFhnuGPHSQ"
      },
      "execution_count": 13,
      "outputs": []
    },
    {
      "cell_type": "code",
      "source": [
        "print(\"Input string:\",input)"
      ],
      "metadata": {
        "colab": {
          "base_uri": "https://localhost:8080/"
        },
        "id": "hTmAafKCPPgf",
        "outputId": "960eea79-e7a6-483e-cb99-c5ffeb7ca5a8"
      },
      "execution_count": 16,
      "outputs": [
        {
          "output_type": "stream",
          "name": "stdout",
          "text": [
            "Input string: Test seq 12345\n"
          ]
        }
      ]
    },
    {
      "cell_type": "code",
      "source": [
        "print(\"Reversed string:\",answer)"
      ],
      "metadata": {
        "colab": {
          "base_uri": "https://localhost:8080/"
        },
        "id": "hfIDllWxQCyp",
        "outputId": "52cbceb7-5227-45c2-fea2-28874d2c2ca1"
      },
      "execution_count": 17,
      "outputs": [
        {
          "output_type": "stream",
          "name": "stdout",
          "text": [
            "Reversed string: 54321 qes tseT\n"
          ]
        }
      ]
    }
  ]
}